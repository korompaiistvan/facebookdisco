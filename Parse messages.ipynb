{
 "cells": [
  {
   "cell_type": "code",
   "execution_count": 26,
   "metadata": {},
   "outputs": [
    {
     "name": "stdout",
     "output_type": "stream",
     "text": [
      "1172 of 1172, 999.html\r"
     ]
    }
   ],
   "source": [
    "from bs4 import BeautifulSoup\n",
    "from os import walk\n",
    "import sys\n",
    "\n",
    "mypath = \"C:/Users/Korompai Istvan/Documents/_Projects/pechakucha/facebook-ikorompaip/messages/\"\n",
    "f = []\n",
    "messages = []\n",
    "i = 1\n",
    "for (dirpath, dirnames, filenames) in walk(mypath):\n",
    "    f.extend(filenames)\n",
    "    break\n",
    "\n",
    "for file in f:\n",
    "    sys.stdout.write('%s of %s, %s\\r' % (i, len(f), file))\n",
    "    sys.stdout.flush()\n",
    "    i += 1\n",
    "    with open(mypath + \"/\" + file, \"r\", encoding = \"utf-8\") as infile:\n",
    "        soup = BeautifulSoup(infile, \"lxml\")\n",
    "\n",
    "    soup = soup.find(class_=\"thread\")\n",
    "    conversation = soup.find(\"h3\").string.split(\"with \")[1]\n",
    "    try:\n",
    "        participants = soup.contents[1].split(\":\")[1][1:]\n",
    "    except:\n",
    "        participants = \"unknown\"\n",
    "    \n",
    "    for tag in soup.find_all(\"div\"):\n",
    "        message = {}\n",
    "        if tag.name == \"div\" and 'message' in tag['class']:\n",
    "            message_header = tag.find(class_ = \"message_header\")\n",
    "            message = {\"text\": tag.next_sibling.string,\n",
    "                       \"time\": message_header.find(class_ = \"meta\").string,\n",
    "                       \"sender\": message_header.find(class_ = \"user\").string,\n",
    "                       \"recipient\": participants,\n",
    "                       \"conversation\": conversation,\n",
    "                      \"source\": file}\n",
    "            messages.append(message)\n",
    "\n"
   ]
  },
  {
   "cell_type": "code",
   "execution_count": 28,
   "metadata": {},
   "outputs": [
    {
     "name": "stdout",
     "output_type": "stream",
     "text": [
      "6\n",
      "6\n",
      "6\n",
      "6\n",
      "6\n"
     ]
    }
   ],
   "source": [
    "for msg in messages[:5]:\n",
    "    print(len(msg))"
   ]
  },
  {
   "cell_type": "code",
   "execution_count": 27,
   "metadata": {},
   "outputs": [],
   "source": [
    "import csv\n",
    "with open(\"C:/Users/Korompai Istvan/Documents/_Projects/pechakucha/facebook-ikorompaip/messages.csv\", \"w\", encoding = \"utf-8\", newline='') as outfile:\n",
    "    w = csv.DictWriter(outfile, messages[0].keys(), delimiter =\"|\")\n",
    "    w.writeheader()\n",
    "    w.writerows(messages)"
   ]
  }
 ],
 "metadata": {
  "kernelspec": {
   "display_name": "Python 3",
   "language": "python",
   "name": "python3"
  },
  "language_info": {
   "codemirror_mode": {
    "name": "ipython",
    "version": 3
   },
   "file_extension": ".py",
   "mimetype": "text/x-python",
   "name": "python",
   "nbconvert_exporter": "python",
   "pygments_lexer": "ipython3",
   "version": "3.6.1"
  }
 },
 "nbformat": 4,
 "nbformat_minor": 2
}
